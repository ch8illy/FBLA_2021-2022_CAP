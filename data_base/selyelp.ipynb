{
 "cells": [
  {
   "cell_type": "code",
   "execution_count": 1,
   "metadata": {},
   "outputs": [],
   "source": [
    "import re\n",
    "import os\n",
    "import json\n",
    "import nltk\n",
    "import math\n",
    "import random\n",
    "import unicodedata\n",
    "\n",
    "from datetime import datetime\n",
    "\n",
    "import requests\n",
    "from bs4 import BeautifulSoup\n",
    "\n",
    "from selenium import webdriver\n",
    "from selenium.webdriver.common.keys import Keys\n",
    "from selenium.webdriver.common.by import By\n",
    "from selenium.common.exceptions import TimeoutException\n",
    "\n",
    "\n",
    "class UNDETECTED(Exception):\n",
    "    pass\n",
    "\n",
    "TARGET_CLASS = \"css-1422juy\";\n",
    "COMP_STATS = {\"website\":\"\", \"name\":\"\", \"address\":\"\", \"reviews\":-1, \"keywords\":\"\"}\n",
    "\n",
    "#COMPSTATS = {\"name\": \"\",\"category\": \"\",\"address\": \"\",\"phone\": \"\",\"price_range\": \"\",\"health_rating\": \"\",\"info\":\"\",\"working_hours\": \"\",\"ratings\": \"\",\"ratings_histogram\": \"\",\"claimed_status\": \"\",\"reviews\": \"\",\"website\": \"\",\"url\":\"\"}\n",
    "\n",
    "\n",
    "PROTOCAL = \"https://\"\n",
    "DOMAIN = \"www.yelp.com\"\n",
    "URL = PROTOCAL+DOMAIN;\n",
    "\n",
    "\n",
    "def parse(destination, location):\n",
    "\n",
    "    global URL\n",
    "    URL += \"/search?find_desc=\"+destination+\"&\"+\"find_loc=\"+location\n",
    "\n",
    "driver = webdriver.Firefox()"
   ]
  },
  {
   "cell_type": "code",
   "execution_count": 2,
   "metadata": {},
   "outputs": [
    {
     "name": "stdout",
     "output_type": "stream",
     "text": [
      "https://www.yelp.com/search?find_desc=Museums&find_loc=San Jose, CA\n"
     ]
    }
   ],
   "source": [
    "parse(\"Museums\", \"San Jose, CA\")\n",
    "print(URL)\n",
    "\n",
    "driver.get(URL)"
   ]
  },
  {
   "cell_type": "code",
   "execution_count": 3,
   "metadata": {},
   "outputs": [
    {
     "name": "stdout",
     "output_type": "stream",
     "text": [
      "['https://www.yelp.com/adredir?ad_business_id=VQ8hnL0N1OxWzktRGQQS7Q&campaign_id=BN69E-pvPqJpaMo0OPakvA&click_origin=search_results&placement=above_search&placement_slot=0&redirect_url=https%3A%2F%2Fwww.yelp.com%2Fbiz%2Frengstorff-house-mountain-view&request_id=809a820e01499c8e&signature=fb8b5b73947aaa464e38206a85a08d643f01dbdd031ee863c3b8b32c3d078949&slot=0', 'https://www.yelp.com/biz/rosicrucian-egyptian-museum-san-jose?osq=Museums', 'https://www.yelp.com/biz/the-tech-interactive-san-jose?osq=Museums', 'https://www.yelp.com/biz/childrens-discovery-museum-san-jose?osq=Museums', 'https://www.yelp.com/biz/san-jose-institute-of-contemporary-art-san-jose?osq=Museums', 'https://www.yelp.com/biz/winchester-mystery-house-san-jose?osq=Museums', 'https://www.yelp.com/biz/san-jose-museum-of-art-san-jose?osq=Museums', 'https://www.yelp.com/biz/beyond-van-gogh-san-jose?osq=Museums', 'https://www.yelp.com/biz/computer-history-museum-mountain-view?osq=Museums', 'https://www.yelp.com/biz/triton-museum-of-art-santa-clara?osq=Museums', 'https://www.yelp.com/biz/japanese-american-museum-of-san-jose-san-jose?osq=Museums']\n",
      "['Rengstorff House', 'Rosicrucian Egyptian Museum', 'The Tech Interactive', 'Children’s Discovery Museum', 'San Jose Institute of Contemporary Art', 'Winchester Mystery House', 'San Jose Museum of Art', 'Beyond Van Gogh', 'Computer History Museum', 'Triton Museum of Art', 'Japanese American Museum of San Jose']\n"
     ]
    }
   ],
   "source": [
    "T = driver.find_elements(By.XPATH, '//a[@class=\"'+TARGET_CLASS+'\"]')\n",
    "\n",
    "specific_urls = [link.get_attribute('href') for link in T]\n",
    "names = [link.get_attribute('name') for link in T]\n",
    "\n",
    "#    rI = [link.text for link in rInf]\n",
    "\n",
    "print(specific_urls)\n",
    "print(names)"
   ]
  },
  {
   "cell_type": "code",
   "execution_count": 4,
   "metadata": {},
   "outputs": [],
   "source": [
    "# for i in range(len(specific_urls)):\n",
    "#    driver.get(specific_urls[i])\n",
    "#        stick_info_div = driver.find_element(By.CLASS_NAME, \" stickySidebar--fullHeight__09f24__kqHVd arrange-unit__09f24__rqHTg arrange-unit-grid-column--4__09f24__P05hD padding-l2__09f24__kf_t_ border-color--default__09f24__NPAKY\");\n",
    "driver.get(specific_urls[2])"
   ]
  },
  {
   "cell_type": "code",
   "execution_count": 65,
   "metadata": {},
   "outputs": [],
   "source": [
    "#rInf = driver.find_elements(By.XPATH, '//div[@class=\"stickySidebar--fullHeight__09f24__kqHVd arrange-unit__09f24__rqHTg arrange-unit-grid-column--4__09f24__P05hD padding-l2__09f24__kf_t_ border-color--default__09f24__NPAKY\"]')\n",
    "rInf = driver.find_elements(By.XPATH, '//a[@class=\"css-10y60kr\"]')\n",
    "links= driver.find_elements(By.XPATH, '//a[@class=\"css-1422juy\"]')\n",
    "\n",
    " "
   ]
  },
  {
   "cell_type": "code",
   "execution_count": 66,
   "metadata": {},
   "outputs": [
    {
     "name": "stdout",
     "output_type": "stream",
     "text": [
      "5\n"
     ]
    }
   ],
   "source": [
    "N = []\n",
    "\n",
    "for i in range(len(links)):\n",
    "    N.append(links[i].text)\n",
    "\n",
    "\n",
    "L = [link.get_attribute('href') for link in links]\n",
    "\n",
    "p = N.index('Ask a question')\n",
    "N, L = N[0:p], L[0:p]\n",
    "\n",
    "\n",
    "print(p)"
   ]
  },
  {
   "cell_type": "code",
   "execution_count": 67,
   "metadata": {},
   "outputs": [
    {
     "name": "stdout",
     "output_type": "stream",
     "text": [
      "{'name': 'The Tech Interactive', 'website': '', 'open_time': '10:00 AM - 3:00 PM', 'address': '', 'number': '', 'reviews': '694'}\n"
     ]
    }
   ],
   "source": [
    "area_data = {\n",
    "    \"name\"\t: \"\",\n",
    "    \"website\" : \"\",  \t\n",
    "    \"open_time\" : \"\",\n",
    "    \"address\" : \"\" ,\n",
    "    \"number\" : \"\",\n",
    "}\n",
    "\n",
    "\n",
    "#f = driver.findElement(By.xpath(\"//div[@class='game-date-time']/span[@data-behavior='date_time']\")).getAttribute(\"data-date\");\\\n",
    "\n",
    "f = driver.find_element(By.XPATH,\"//div[@class=' stickySidebar--fullHeight__09f24__kqHVd arrange-unit__09f24__rqHTg arrange-unit-grid-column--4__09f24__P05hD padding-l2__09f24__kf_t_ border-color--default__09f24__NPAKY']\")\n",
    "name = driver.find_element(By.XPATH,\"//h1[@class='css-1x9iesk']\")\n",
    "sub = driver.find_elements(By.XPATH,\"//span[@class=' css-1yy09vp']\")\n",
    "\n",
    "area_data[\"name\"] = name.text\n",
    "\n",
    "for comp in sub:\n",
    "    if \"reviews\" in comp.text:\n",
    "        area_data[\"reviews\"] = comp.text.replace(\" reviews\", \"\")\n",
    "    elif ( \"AM\" in comp.text ) or ( \"PM\" in comp.text ):\n",
    "        area_data[\"open_time\"] = comp.text\n",
    "    else:\n",
    "        continue\n",
    "\n",
    "print(area_data)"
   ]
  },
  {
   "cell_type": "code",
   "execution_count": 76,
   "metadata": {},
   "outputs": [
    {
     "name": "stdout",
     "output_type": "stream",
     "text": [
      "<selenium.webdriver.remote.webelement.WebElement (session=\"6cabaf17-99be-4b1d-901d-a4f1ab9261b5\", element=\"66d6fe3e-d2bc-40ce-893b-0bc7d3c4e245\")>\n",
      "3   10\n"
     ]
    }
   ],
   "source": [
    "print(f)\n",
    "props = f.find_elements(By.XPATH, \"//div[@class=' css-1vhakgw border--top__09f24__exYYb border-color--default__09f24__NPAKY']\");\n",
    "micro_links = f.find_elements(By.XPATH, \"//a[@class='css-10y60kr']\")\n",
    "print(len(v),\" \", len(micro_links))"
   ]
  },
  {
   "cell_type": "code",
   "execution_count": 82,
   "metadata": {},
   "outputs": [
    {
     "data": {
      "text/plain": [
       "{'name': 'The Tech Interactive',\n",
       " 'website': 'http://www.thetech.org',\n",
       " 'open_time': '10:00 AM - 3:00 PM',\n",
       " 'address': '201 S Market St San Jose, CA 95113',\n",
       " 'number': '(408) 294-8324',\n",
       " 'reviews': '694'}"
      ]
     },
     "execution_count": 82,
     "metadata": {},
     "output_type": "execute_result"
    }
   ],
   "source": [
    "def phone_number(n) -> bool:\n",
    "    ns = [\"0\",\"1\",\"2\",\"3\",\"4\",\"5\",\"6\",\"7\",\"8\",\"9\"]\n",
    "\n",
    "    nc = 0\n",
    "\n",
    "    for i in range(len(n)):\n",
    "        if n[i] in ns:\n",
    "            nc+=1\n",
    "        \n",
    "    return nc>8\n",
    "\n",
    "\n",
    "for prop in props:\n",
    "    T = prop.text\n",
    "\n",
    "    if \"http\" in T:\n",
    "        area_data[\"website\"] = T\n",
    "        continue\n",
    "\n",
    "    if phone_number(T):\n",
    "        area_data[\"number\"] = T\n",
    "        continue\n",
    "\n",
    "    if \"Get Directions\" in T:\n",
    "        TL = T.split(\"\\n\")\n",
    "        area_data[\"address\"] = TL[1]\n",
    "        continue\n",
    "\n",
    "\n",
    "area_data"
   ]
  },
  {
   "cell_type": "code",
   "execution_count": null,
   "metadata": {},
   "outputs": [],
   "source": []
  },
  {
   "cell_type": "code",
   "execution_count": null,
   "metadata": {},
   "outputs": [],
   "source": []
  }
 ],
 "metadata": {
  "interpreter": {
   "hash": "a0fc53f1262648444aa726b5950e7e279db01fa26558d063a9ecac787ff65b6f"
  },
  "kernelspec": {
   "display_name": "Python 3.9.6 64-bit ('venv': venv)",
   "language": "python",
   "name": "python3"
  },
  "language_info": {
   "codemirror_mode": {
    "name": "ipython",
    "version": 3
   },
   "file_extension": ".py",
   "mimetype": "text/x-python",
   "name": "python",
   "nbconvert_exporter": "python",
   "pygments_lexer": "ipython3",
   "version": "3.9.6"
  },
  "orig_nbformat": 4
 },
 "nbformat": 4,
 "nbformat_minor": 2
}
